{
  "nbformat": 4,
  "nbformat_minor": 0,
  "metadata": {
    "colab": {
      "provenance": []
    },
    "kernelspec": {
      "name": "python3",
      "display_name": "Python 3"
    },
    "language_info": {
      "name": "python"
    }
  },
  "cells": [
    {
      "cell_type": "code",
      "execution_count": null,
      "metadata": {
        "id": "7-KVgjCoQQo-"
      },
      "outputs": [],
      "source": [
        "# Step 1: Install the necessary tools (only need to run this once)\n",
        "!pip install transformers\n",
        "!pip install pillow\n",
        "\n",
        "# Step 2: Load the tools we need\n",
        "from transformers import VisionEncoderDecoderModel, ViTFeatureExtractor, AutoTokenizer\n",
        "from PIL import Image\n",
        "import requests\n",
        "\n",
        "# Step 3: Set up the pre-trained image captioning model\n",
        "model = VisionEncoderDecoderModel.from_pretrained(\"nlpconnect/vit-gpt2-image-captioning\")\n",
        "feature_extractor = ViTFeatureExtractor.from_pretrained(\"nlpconnect/vit-gpt2-image-captioning\")\n",
        "tokenizer = AutoTokenizer.from_pretrained(\"nlpconnect/vit-gpt2-image-captioning\")\n",
        "\n",
        "# Step 4: Define a function to generate captions\n",
        "def generate_caption(image_path):\n",
        "    # Open the image from your file\n",
        "    image = Image.open(image_path).convert(\"RGB\")\n",
        "\n",
        "    # Prepare the image for the model\n",
        "    pixel_values = feature_extractor(images=image, return_tensors=\"pt\").pixel_values\n",
        "\n",
        "    # Generate the caption\n",
        "    output_ids = model.generate(pixel_values)\n",
        "    caption = tokenizer.decode(output_ids[0], skip_special_tokens=True)\n",
        "\n",
        "    return caption\n",
        "\n",
        "# Step 5: Upload your image and generate a caption\n",
        "from google.colab import files\n",
        "uploaded = files.upload()  # This opens a window to upload your image\n",
        "\n",
        "# Step 6: Get the caption for the uploaded image\n",
        "for filename in uploaded.keys():\n",
        "    caption = generate_caption(filename)\n",
        "    print(f\"Image: {filename}\")\n",
        "    print(f\"Caption: {caption}\")"
      ]
    },
    {
      "cell_type": "code",
      "source": [],
      "metadata": {
        "id": "mGYeXmDaQYXr"
      },
      "execution_count": null,
      "outputs": []
    }
  ]
}